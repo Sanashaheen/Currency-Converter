{
 "cells": [
  {
   "cell_type": "markdown",
   "id": "6eb4c481",
   "metadata": {},
   "source": [
    "# Currency Convertor  (BCS203192 Sana shaheen)"
   ]
  },
  {
   "cell_type": "code",
   "execution_count": 1,
   "id": "9118b7ab",
   "metadata": {},
   "outputs": [],
   "source": [
    " import tkinter as tk  # importing tkinter lib for GUI\n",
    "from tkinter import *  # this is for button lable and input\n",
    "from tkinter import ttk  # (themed Tkinter)provides several additional widgets, such as themed buttons,comboboxes\n",
    "import requests  # send HTTP requests and receive responses from web services and APIs.\n",
    "import json  # (JavaScript Object Notation) data. format that is easy to read and write for humans, and easy to parse and generate for machines.\n",
    "from PIL import ImageTk, Image  # ImageTk and Image are classes provided by\n",
    "# the Pillow library that allow you to work with images in tkinter.\n"
   ]
  },
  {
   "cell_type": "markdown",
   "id": "6416a48d",
   "metadata": {},
   "source": [
    "# this function is converting the currencies using API"
   ]
  },
  {
   "cell_type": "code",
   "execution_count": 2,
   "id": "d40726a6",
   "metadata": {},
   "outputs": [],
   "source": [
    " def convertr():   \n",
    "    # global symbol\n",
    "    app_id = '5d22fa3247fe4a58a520a75e7dd64f98'\n",
    "\n",
    "    # Make a request to the latest exchange rates API endpoint\n",
    "    response = requests.get(f'https://openexchangerates.org/api/latest.json?app_id={app_id}')\n",
    "\n",
    "    # Check if the request was successful\n",
    "    if response.status_code == 200:\n",
    "\n",
    "        # Parse the JSON response and extract the exchange rates data\n",
    "        exchange_rates = response.json()['rates']  # is a dictionary that contains the exchange rates of different\n",
    "        # currencies with respect to a base currency.\n",
    "        # print(exchange_rates)\n",
    "        currency_1 = list.get()  # here we get the option from list 1\n",
    "        currency_2 = option.get()  # here i get the option from list 2\n",
    "        amount = float(inputt.get())  # here the value user will give\n",
    "        rate_1 = exchange_rates[currency_1]\n",
    "        rate_2 = exchange_rates[currency_2]\n",
    "        converted_amount = round(amount / rate_1 * rate_2,\n",
    "                                 2)  # The result is rounded to two decimal places using the round()\n",
    "        formated = '{:,.2f}'.format(converted_amount)\n",
    "        Result['text'] = formated\n",
    "        print(converted_amount, formated)\n",
    "\n",
    "    else:\n",
    "        print(f'Request failed with status code {response.status_code}')\n",
    "\n"
   ]
  },
  {
   "cell_type": "markdown",
   "id": "10a63f68",
   "metadata": {},
   "source": [
    "# This function Reset all Enteries"
   ]
  },
  {
   "cell_type": "code",
   "execution_count": 3,
   "id": "8691c8b3",
   "metadata": {},
   "outputs": [],
   "source": [
    "def reset():  # this function reset the all values\n",
    "    inputt.delete(0, END)  # the value  user will enter will be deleted\n",
    "    list.set('')  # the value from list will be empty\n",
    "    option.set('')  # the value to list will be empty\n",
    "    Result['text'] = ''  # result box will also empty\n"
   ]
  },
  {
   "cell_type": "markdown",
   "id": "c8b42445",
   "metadata": {},
   "source": [
    "# Making Window and its Design"
   ]
  },
  {
   "cell_type": "code",
   "execution_count": 4,
   "id": "12625919",
   "metadata": {},
   "outputs": [],
   "source": [
    "GUI = tk.Tk()  # simply make windows\n",
    "GUI.geometry(\"500x500\")  # size of window\n",
    "GUI.title(\"Sana's Curency Converter\")\n",
    "GUI.resizable(height=False, width=False)  #fixed the size\n",
    "# Fram for heading\n",
    "heading = Frame(GUI, width=470, height=100)    # rectangular area\n",
    "heading.place(x=15, y=30)\n"
   ]
  },
  {
   "cell_type": "code",
   "execution_count": 5,
   "id": "8df78874",
   "metadata": {},
   "outputs": [],
   "source": [
    "logo = Image.open('logo.png')\n",
    "logo = logo.resize((40, 40))\n",
    "logo = ImageTk.PhotoImage(logo)   # used to display images in labels, buttons,\n",
    "\n",
    "Frame_heading = Label(heading, image=logo, compound=LEFT, text='Currency Converter', height=5, padx=13,\n",
    "                      pady=30, font=(\"Arial 16 bold\"), fg='black', bg='white')\n",
    "Frame_heading.place(x=90, y=14)\n",
    "\n",
    "Result = Label(GUI, text='', width=16, height=2, pady=2, relief=\"solid\", font=(\"Ivy 16 bold\"), fg='black')\n",
    "Result.place(x=140, y=140)\n"
   ]
  },
  {
   "cell_type": "code",
   "execution_count": null,
   "id": "a31ee447",
   "metadata": {},
   "outputs": [],
   "source": [
    "Currency = ['PKR', 'INR', 'EUR', 'USD', 'CAD', 'QR']\n",
    "From = Label(GUI, text='From', width=8, height=1, pady=0, padx=0, relief=\"flat\", anchor=NW, font=(\"Ivy 10\"), fg='black')\n",
    "From.place(x=100, y=220)\n",
    "\n",
    "list = ttk.Combobox(GUI, width=8, justify=CENTER, font=(\"Ivy 12 bold\"))\n",
    "list['values'] = Currency\n",
    "list.place(x=140, y=220)\n",
    "To_label = Label(GUI, text='To', width=8, height=1, pady=0, padx=0, relief=\"flat\", anchor=NW, font=(\"Ivy 10\"),\n",
    "                 fg='black')\n",
    "To_label.place(x=250, y=220)\n",
    "option = ttk.Combobox(GUI, width=8, justify=CENTER, font=(\"Ivy 12 bold\"))\n",
    "option['values'] = Currency\n",
    "option.place(x=280, y=220)\n",
    "\n",
    "# input\n",
    "inputt = Entry(GUI, width=22, justify=CENTER, relief='solid', font=(\"Ivy 12 bold\"))\n",
    "inputt.place(x=150, y=270)\n",
    "\n",
    "# button\n",
    "button = Button(GUI, text=\"Converter\", width=7, padx=5, height=1, bg=\"blue\", fg='white',\n",
    "                font=(\"Ivy 10 bold\"), command=convertr)\n",
    "button.place(x=170, y=310)\n",
    "reset_button = Button(GUI, text=\"Reset\", width=7, padx=5, height=1, bg=\"red\", fg='white',\n",
    "                      font=(\"Ivy 10 bold\"), command=reset)\n",
    "reset_button.place(x=260, y=310)\n",
    "\n",
    "GUI.mainloop()"
   ]
  },
  {
   "cell_type": "code",
   "execution_count": null,
   "id": "3b234b25",
   "metadata": {},
   "outputs": [],
   "source": []
  },
  {
   "cell_type": "code",
   "execution_count": null,
   "id": "1dbd081d",
   "metadata": {},
   "outputs": [],
   "source": []
  }
 ],
 "metadata": {
  "kernelspec": {
   "display_name": "Python 3 (ipykernel)",
   "language": "python",
   "name": "python3"
  },
  "language_info": {
   "codemirror_mode": {
    "name": "ipython",
    "version": 3
   },
   "file_extension": ".py",
   "mimetype": "text/x-python",
   "name": "python",
   "nbconvert_exporter": "python",
   "pygments_lexer": "ipython3",
   "version": "3.9.13"
  }
 },
 "nbformat": 4,
 "nbformat_minor": 5
}
